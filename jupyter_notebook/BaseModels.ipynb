{
 "cells": [
  {
   "cell_type": "code",
   "execution_count": 1,
   "metadata": {},
   "outputs": [],
   "source": [
    "import data_loader as dl\n",
    "import numpy as np\n",
    "import matplotlib.pyplot as plt\n",
    "import seaborn as sns\n",
    "import pandas as pd\n",
    "\n",
    "train_df, valid_df = dl.load_train_data(\"adult.data\")\n",
    "test_df = dl.load_test_data(\"adult.test\")\n",
    "column_names = ['age', 'workclass', 'fnlwgt', 'education', 'education.num', 'martial.status',\n",
    "                   'occupation', 'relationship', 'race', 'sex', 'capital.gain', 'capital.loss',\n",
    "                   'hours.per.week', 'native.country', 'income']\n",
    "train_df.columns = column_names\n",
    "\n",
    "for col in ['workclass', 'education', 'martial.status', 'occupation', 'relationship', 'race', \n",
    "            'sex', 'native.country', 'income']:\n",
    "    train_df[col] = train_df[col].astype('category')\n",
    "num_features = ['age', 'fnlwgt', 'education.num', 'capital.gain', 'capital.loss', 'hours.per.week']\n",
    "cat_features = ['workclass', 'education', 'martial.status', 'occupation', 'relationship', 'race', 'sex', 'native.country']\n",
    "\n",
    "for category in cat_features:\n",
    "    train_df[category] = train_df[category].cat.codes\n",
    "train_df['income.prediction'] = train_df.income.cat.codes\n",
    "train_df.drop(labels=[\"income\"], axis = 1, inplace = True)\n",
    "\n",
    "valid_df.columns = column_names\n",
    "\n",
    "for col in ['workclass', 'education', 'martial.status', 'occupation', 'relationship', 'race', \n",
    "            'sex', 'native.country', 'income']:\n",
    "    valid_df[col] = valid_df[col].astype('category')\n",
    "num_features = ['age', 'fnlwgt', 'education.num', 'capital.gain', 'capital.loss', 'hours.per.week']\n",
    "cat_features = ['workclass', 'education', 'martial.status', 'occupation', 'relationship', 'race', 'sex', 'native.country']\n",
    "\n",
    "for category in cat_features:\n",
    "    valid_df[category] = valid_df[category].cat.codes\n",
    "valid_df['income.prediction'] = valid_df.income.cat.codes\n",
    "valid_df.drop(labels=[\"income\"], axis = 1, inplace = True)\n",
    "missing_cols = set( train_df.columns ) - set( valid_df.columns )\n",
    "for c in missing_cols:\n",
    "    valid_df[c] = 0\n",
    "valid_df = valid_df[train_df.columns]\n",
    "\n",
    "test_df.columns = column_names\n",
    "\n",
    "for col in ['workclass', 'education', 'martial.status', 'occupation', 'relationship', 'race', \n",
    "            'sex', 'native.country', 'income']:\n",
    "    test_df[col] = test_df[col].astype('category')\n",
    "num_features = ['age', 'fnlwgt', 'education.num', 'capital.gain', 'capital.loss', 'hours.per.week']\n",
    "cat_features = ['workclass', 'education', 'martial.status', 'occupation', 'relationship', 'race', 'sex', 'native.country']\n",
    "\n",
    "for category in cat_features:\n",
    "    test_df[category] = test_df[category].cat.codes\n",
    "test_df['income.prediction'] = test_df.income.cat.codes\n",
    "test_df.drop(labels=[\"income\"], axis = 1, inplace = True)\n",
    "missing_cols = set( train_df.columns ) - set( test_df.columns )\n",
    "for c in missing_cols:\n",
    "    test_df[c] = 0\n",
    "test_df = test_df[train_df.columns]"
   ]
  },
  {
   "cell_type": "code",
   "execution_count": 2,
   "metadata": {},
   "outputs": [
    {
     "name": "stdout",
     "output_type": "stream",
     "text": [
      "All under 50K baseline model\n",
      "AUC: 0.5\n",
      "Accuracy: 0.7674060382008626\n"
     ]
    },
    {
     "name": "stderr",
     "output_type": "stream",
     "text": [
      "C:\\Users\\harry\\AppData\\Local\\Continuum\\anaconda3\\lib\\site-packages\\sklearn\\linear_model\\logistic.py:433: FutureWarning: Default solver will be changed to 'lbfgs' in 0.22. Specify a solver to silence this warning.\n",
      "  FutureWarning)\n"
     ]
    },
    {
     "name": "stdout",
     "output_type": "stream",
     "text": [
      "LR\n",
      "AUC: 0.6273285815691456\n",
      "Accuracy: 0.8034504004929144\n",
      "KNN\n",
      "AUC: 0.6097237472118169\n",
      "Accuracy: 0.7686383240911892\n"
     ]
    }
   ],
   "source": [
    "from sklearn.linear_model import LogisticRegression\n",
    "from sklearn.neighbors import KNeighborsClassifier\n",
    "from sklearn.metrics import accuracy_score\n",
    "from sklearn.metrics import roc_auc_score\n",
    "from collections import namedtuple\n",
    "\n",
    "Model = namedtuple('Model', 'name model')\n",
    "\n",
    "train = train_df.values\n",
    "X, Y= train[:,:-1], train[:,-1]\n",
    "valid = valid_df.values\n",
    "Xval, Yval = valid[:,:-1], valid[:,-1]\n",
    "test = test_df.values\n",
    "Xtst, Ytst = test[:,:-1], test[:,-1]\n",
    "models = []\n",
    "models.append(Model('LR', LogisticRegression()))\n",
    "models.append(Model('KNN', KNeighborsClassifier()))\n",
    "# evalutate each model in turn\n",
    "Yhat = np.zeros(Yval.shape)\n",
    "print(\"All under 50K baseline model\")\n",
    "auc = roc_auc_score(Yval, Yhat)\n",
    "accuracy = accuracy_score(Yval, Yhat)\n",
    "print(\"AUC: {}\".format(auc))\n",
    "print(\"Accuracy: {}\".format(accuracy))\n",
    "for m in models:\n",
    "    m.model.fit(X, Y)\n",
    "    print(m.name)\n",
    "    Yhat = m.model.predict(Xval)\n",
    "    auc = roc_auc_score(Yval, Yhat)\n",
    "    accuracy = accuracy_score(Yval, Yhat)\n",
    "    print(\"AUC: {}\".format(auc))\n",
    "    print(\"Accuracy: {}\".format(accuracy))"
   ]
  }
 ],
 "metadata": {
  "kernelspec": {
   "display_name": "Python 3",
   "language": "python",
   "name": "python3"
  },
  "language_info": {
   "codemirror_mode": {
    "name": "ipython",
    "version": 3
   },
   "file_extension": ".py",
   "mimetype": "text/x-python",
   "name": "python",
   "nbconvert_exporter": "python",
   "pygments_lexer": "ipython3",
   "version": "3.7.3"
  }
 },
 "nbformat": 4,
 "nbformat_minor": 2
}
